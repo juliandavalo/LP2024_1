{
 "cells": [
  {
   "attachments": {},
   "cell_type": "markdown",
   "id": "05dc2cbc",
   "metadata": {},
   "source": [
    "# Funciones de Anónimas\n",
    "\n",
    "Las funciones anónimas también conocidas como Lambda Functions es una declaración especial de una función en Python que no tiene un identificador (Nombre)\n",
    "\n",
    "## Función Anónima Suma"
   ]
  },
  {
   "cell_type": "code",
   "execution_count": 1,
   "id": "2797c8e1",
   "metadata": {},
   "outputs": [
    {
     "name": "stdout",
     "output_type": "stream",
     "text": [
      "5\n"
     ]
    }
   ],
   "source": [
    "def suma(a, b):\n",
    "    return a + b\n",
    "\n",
    "print(suma(2, 3))"
   ]
  },
  {
   "cell_type": "code",
   "execution_count": 6,
   "id": "b14e39bb",
   "metadata": {},
   "outputs": [
    {
     "name": "stdout",
     "output_type": "stream",
     "text": [
      "5\n"
     ]
    }
   ],
   "source": [
    "suma_lambda = lambda a,b: a + b\n",
    "print(suma_lambda(2, 3))"
   ]
  },
  {
   "cell_type": "markdown",
   "id": "fc7706d1",
   "metadata": {},
   "source": [
    "## Función Anónima Función Cuadrática"
   ]
  },
  {
   "cell_type": "markdown",
   "id": "0085c726",
   "metadata": {},
   "source": [
    "Crear una función lambda que calcule el discriminante de una ecuación cuadrática\n"
   ]
  },
  {
   "cell_type": "code",
   "execution_count": 3,
   "id": "3ce0be51",
   "metadata": {},
   "outputs": [
    {
     "name": "stdout",
     "output_type": "stream",
     "text": [
      "El discriminantes es 1\n"
     ]
    }
   ],
   "source": [
    "discriminante = lambda a, b, c: b**2 - 4*a*c\n",
    "discriminante = lambda a, b, c: b**2 - 4*a*c\n",
    "print(f\"El discriminantes es {discriminante(1, 3, 2)}\")"
   ]
  },
  {
   "cell_type": "markdown",
   "id": "7b06f1df",
   "metadata": {},
   "source": [
    "Calcular las raíces de la ecuación"
   ]
  },
  {
   "cell_type": "code",
   "execution_count": 4,
   "id": "f3f2965a",
   "metadata": {},
   "outputs": [
    {
     "name": "stdout",
     "output_type": "stream",
     "text": [
      "Las raices son -1.0 y -2.0\n"
     ]
    }
   ],
   "source": [
    "x1 = lambda a, b, c: (-b + (discriminante(a, b, c))**0.5) / (2*a) if discriminante(a, b, c) >= 0 else \"Raiz compleja\"\n",
    "x2 = lambda a, b, c: (-b - (discriminante(a, b, c))**0.5) / (2*a) if discriminante(a, b, c) >= 0 else \"Raiz compleja\"\n",
    "\n",
    "a, b, c = (1, 3, 2)\n",
    "print(f\"Las raices son {x1(a, b, c)} y {x2(a, b, c)}\")"
   ]
  },
  {
   "attachments": {},
   "cell_type": "markdown",
   "id": "896e0e89",
   "metadata": {},
   "source": [
    "# Funciones de Orden Superior\n",
    "Una función se denomina Función de orden superior si esta contiene otras funciones como parámetros de entrada o si devuelve una función como salida, es decir, las funciones que operan con otra función se conocen como Funciones de orden superior."
   ]
  },
  {
   "cell_type": "code",
   "execution_count": 9,
   "id": "6d2a238b",
   "metadata": {},
   "outputs": [
    {
     "name": "stdout",
     "output_type": "stream",
     "text": [
      "12\n"
     ]
    }
   ],
   "source": [
    "def math_operations(fun, num1, num2):\n",
    "    return fun(num1, num2)\n",
    "\n",
    "def product(num1, num2):\n",
    "    return num1 * num2\n",
    "\n",
    "substraction = lambda num1, num2:\n",
    "\n",
    "print(math_operations(product, 3, 4))"
   ]
  },
  {
   "cell_type": "markdown",
   "id": "d8638612",
   "metadata": {},
   "source": [
    "## FILTER()\n",
    "*filter(function, iterable)*\n",
    "\n",
    "La función filter() devuelve un iterador donde los elementos se filtran a través de una función para probar si el elemento es aceptado o no.\n",
    "\n",
    "Devuelve un objeto generador, de ahí que usemos la función list() para convertirlo a lista\n",
    "\n",
    "\n",
    "### Ejemplo 1"
   ]
  },
  {
   "cell_type": "code",
   "execution_count": 13,
   "id": "341460ad",
   "metadata": {},
   "outputs": [
    {
     "name": "stdout",
     "output_type": "stream",
     "text": [
      "Las palabras largas son ['manzana', 'platano', 'naranja']\n"
     ]
    }
   ],
   "source": [
    "palabras = ['manzana', 'pera', 'platano', 'kiwi', 'naranja']\n",
    "\n",
    "def fun_len(palabra):\n",
    "    return len(palabra) > 5\n",
    "\n",
    "#palabras_largas = list(filter(fun_len, palabras))\n",
    "\n",
    "palabras_largas = list(filter(lambda palabra: len(palabra) > 5, palabras))\n",
    "\n",
    "print(f'Las palabras largas son {palabras_largas}')"
   ]
  },
  {
   "cell_type": "markdown",
   "id": "b090c5e8",
   "metadata": {},
   "source": [
    "### Ejemplo 2"
   ]
  },
  {
   "cell_type": "code",
   "execution_count": 14,
   "id": "5e306907",
   "metadata": {},
   "outputs": [
    {
     "name": "stdout",
     "output_type": "stream",
     "text": [
      "Las palabras que empiezan con vocal son ['aguacate', 'uva']\n"
     ]
    }
   ],
   "source": [
    "words = ['aguacate', 'manzana', 'platano', 'kiwi', 'naranja', 'uva']\n",
    "\n",
    "initial_vowel = list(filter(lambda word: word[0] in 'aeiou', words))\n",
    "\n",
    "print(f'Las palabras que empiezan con vocal son {initial_vowel}')"
   ]
  },
  {
   "cell_type": "markdown",
   "id": "cec70b7a",
   "metadata": {},
   "source": [
    "## MAP()\n",
    "*map(function, iterables)*\n",
    "\n",
    "* La función map() ejecuta una función específica para cada elemento en un iterable. El objeto se envía a la función como parámetro.\n",
    "\n",
    "* El primer argumento de la función es la función de mapeo. Los segundos argumentos son uno o varios iterables que se pasan secuencialmente a la función de mapeo.\n",
    "\n",
    "* Devuelve un objeto generador, de ahí que usemos la función list() para convertirlo a lista\n",
    "\n",
    "\n",
    "### Ejemplo 1\n"
   ]
  },
  {
   "cell_type": "code",
   "execution_count": 21,
   "id": "94ea1e09",
   "metadata": {},
   "outputs": [
    {
     "name": "stdout",
     "output_type": "stream",
     "text": [
      "[0, 10, 0, 2, 11]\n",
      "['0', '1010', '0', '10', '1011']\n"
     ]
    }
   ],
   "source": [
    "from random import randint\n",
    "\n",
    "numbers = [randint(0, 15) for _ in range(5)]\n",
    "print(numbers)\n",
    "\n",
    "binarios = list(map(lambda num: bin(num)[2:], numbers))\n",
    "\n",
    "print(binarios)"
   ]
  },
  {
   "cell_type": "markdown",
   "id": "4632b233",
   "metadata": {},
   "source": [
    "### Ejemplo 2"
   ]
  },
  {
   "cell_type": "code",
   "execution_count": 22,
   "id": "0f6e8814",
   "metadata": {},
   "outputs": [
    {
     "name": "stdout",
     "output_type": "stream",
     "text": [
      "[8, 7, 7, 4, 7, 3]\n"
     ]
    }
   ],
   "source": [
    "words = ['aguacate', 'manzana', 'platano', 'kiwi', 'naranja', 'uva']\n",
    "lengths = list(map(len, words))\n",
    "print(lengths)"
   ]
  },
  {
   "cell_type": "markdown",
   "id": "fd3402a2",
   "metadata": {},
   "source": [
    "## REDUCE()\n",
    "*from functools import reduce*\n",
    "\n",
    "*reduce(function, iterables)*\n",
    "\n",
    "La función reduce()  acepta una función y una secuencia y devuelve un único valor calculado de la siguiente manera:\n",
    "\n",
    "* Inicialmente, se llama a la función con los dos primeros elementos de la secuencia y se devuelve el resultado.\n",
    "\n",
    "* A continuación, se vuelve a llamar a la función con el resultado obtenido en el paso 1 y el siguiente valor de la secuencia. Este proceso se repite hasta que hay elementos en la secuencia.\n",
    "\n",
    "\n",
    "### Ejemplo 1"
   ]
  },
  {
   "cell_type": "code",
   "execution_count": 26,
   "id": "0f4e5397",
   "metadata": {},
   "outputs": [
    {
     "name": "stdout",
     "output_type": "stream",
     "text": [
      "El MCD en [20, 40, 60, 80] es 20\n",
      "El MCD en [15, 30, 45, 60] es 15\n",
      "El MCD en [9, 18, 27, 36] es 9\n",
      "El MCD en [14, 28, 42, 56] es 14\n"
     ]
    }
   ],
   "source": [
    "from functools import reduce\n",
    "from math import gcd\n",
    "\n",
    "# Definir 4 listas fijas de números con distintos conjuntos de múltiplos\n",
    "listas = [\n",
    "    [20, 40, 60, 80],  # Múltiplos de 20\n",
    "    [15, 30, 45, 60],  # Múltiplos de 15\n",
    "    [9, 18, 27, 36],   # Múltiplos de 9\n",
    "    [14, 28, 42, 56]   # Múltiplos de 14\n",
    "]\n",
    "\n",
    "for lista in listas:\n",
    "    mcd = reduce(gcd, lista)\n",
    "    print(f'El MCD en {lista} es {mcd}')\n",
    "\n",
    "#mcds = reduce(lambda x, y: gcd(x, y), listas[0])\n",
    "#print(mcds)"
   ]
  },
  {
   "cell_type": "markdown",
   "id": "c47d92e8",
   "metadata": {},
   "source": [
    "### Ejemplo 2"
   ]
  },
  {
   "cell_type": "code",
   "execution_count": null,
   "id": "2ce4043b",
   "metadata": {},
   "outputs": [],
   "source": []
  },
  {
   "cell_type": "code",
   "execution_count": null,
   "id": "05909422",
   "metadata": {},
   "outputs": [],
   "source": []
  }
 ],
 "metadata": {
  "kernelspec": {
   "display_name": "Python 3 (ipykernel)",
   "language": "python",
   "name": "python3"
  },
  "language_info": {
   "codemirror_mode": {
    "name": "ipython",
    "version": 3
   },
   "file_extension": ".py",
   "mimetype": "text/x-python",
   "name": "python",
   "nbconvert_exporter": "python",
   "pygments_lexer": "ipython3",
   "version": "3.10.9"
  }
 },
 "nbformat": 4,
 "nbformat_minor": 5
}
