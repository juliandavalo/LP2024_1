{
 "cells": [
  {
   "cell_type": "markdown",
   "id": "a730fbfe",
   "metadata": {},
   "source": [
    "# Condicionales\n",
    "\n",
    "Vamos a estudiar como funcionan los *condicionales* en **Jupyter**\n",
    "\n",
    "* Relacionales\n",
    "* Operadores logicos\n",
    "\n",
    "## subtitle\n",
    "### subsubtitle\n"
   ]
  },
  {
   "cell_type": "code",
   "execution_count": 1,
   "id": "49ac5430",
   "metadata": {},
   "outputs": [],
   "source": [
    "num1 = 8\n",
    "num2 = -5\n",
    "num3 = 4"
   ]
  },
  {
   "cell_type": "markdown",
   "id": "e74974e1",
   "metadata": {},
   "source": [
    "Crear mas variables"
   ]
  },
  {
   "cell_type": "code",
   "execution_count": 2,
   "id": "0c48f07e",
   "metadata": {},
   "outputs": [],
   "source": [
    "num4 = 0"
   ]
  },
  {
   "cell_type": "code",
   "execution_count": 5,
   "id": "a9de2852",
   "metadata": {},
   "outputs": [
    {
     "data": {
      "text/plain": [
       "False"
      ]
     },
     "execution_count": 5,
     "metadata": {},
     "output_type": "execute_result"
    }
   ],
   "source": [
    "num1 <= num3 or num4 != 0"
   ]
  },
  {
   "cell_type": "code",
   "execution_count": null,
   "id": "c03d2261",
   "metadata": {},
   "outputs": [],
   "source": []
  }
 ],
 "metadata": {
  "kernelspec": {
   "display_name": "Python 3 (ipykernel)",
   "language": "python",
   "name": "python3"
  },
  "language_info": {
   "codemirror_mode": {
    "name": "ipython",
    "version": 3
   },
   "file_extension": ".py",
   "mimetype": "text/x-python",
   "name": "python",
   "nbconvert_exporter": "python",
   "pygments_lexer": "ipython3",
   "version": "3.9.13"
  }
 },
 "nbformat": 4,
 "nbformat_minor": 5
}
